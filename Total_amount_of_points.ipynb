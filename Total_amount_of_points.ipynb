{
  "nbformat": 4,
  "nbformat_minor": 0,
  "metadata": {
    "colab": {
      "name": "Total amount of points",
      "provenance": [],
      "authorship_tag": "ABX9TyNEJaDrqy5hvqEKBU4otsfa",
      "include_colab_link": true
    },
    "kernelspec": {
      "name": "python3",
      "display_name": "Python 3"
    }
  },
  "cells": [
    {
      "cell_type": "markdown",
      "metadata": {
        "id": "view-in-github",
        "colab_type": "text"
      },
      "source": [
        "<a href=\"https://colab.research.google.com/github/gilbertduenas/codewars---Total-amount-of-points/blob/master/Total_amount_of_points.ipynb\" target=\"_parent\"><img src=\"https://colab.research.google.com/assets/colab-badge.svg\" alt=\"Open In Colab\"/></a>"
      ]
    },
    {
      "cell_type": "code",
      "metadata": {
        "id": "BBREc-dlZujt",
        "colab_type": "code",
        "colab": {}
      },
      "source": [
        "def points(games):\n",
        "  total = 0\n",
        "  for i in games:\n",
        "    if i[0] > i[2]:\n",
        "      total += 3\n",
        "    elif i[0] < i[2]:\n",
        "      total += 0\n",
        "    else:\n",
        "      total += 1\n",
        "\n",
        "  return total"
      ],
      "execution_count": 6,
      "outputs": []
    },
    {
      "cell_type": "markdown",
      "metadata": {
        "id": "655M5IaQa7Yz",
        "colab_type": "text"
      },
      "source": [
        "Scoring\n",
        "- if x>y - 3 points\n",
        "- if x<y - 0 point\n",
        "- if x=y - 1 point\n",
        "\n",
        "---"
      ]
    },
    {
      "cell_type": "code",
      "metadata": {
        "id": "AP0rG9YJZGnP",
        "colab_type": "code",
        "colab": {
          "base_uri": "https://localhost:8080/",
          "height": 35
        },
        "outputId": "dbc831c5-6466-4ba7-c4c0-83c699c26195"
      },
      "source": [
        "points(['1:0','2:0','3:0','4:0','2:1','3:1','4:1','3:2','4:2','4:3'])"
      ],
      "execution_count": 7,
      "outputs": [
        {
          "output_type": "execute_result",
          "data": {
            "text/plain": [
              "30"
            ]
          },
          "metadata": {
            "tags": []
          },
          "execution_count": 7
        }
      ]
    },
    {
      "cell_type": "code",
      "metadata": {
        "id": "WkhVP77iZmPc",
        "colab_type": "code",
        "colab": {
          "base_uri": "https://localhost:8080/",
          "height": 35
        },
        "outputId": "65fdaea7-a088-4864-a733-cfadf17ac37a"
      },
      "source": [
        "points(['1:1','2:2','3:3','4:4','2:2','3:3','4:4','3:3','4:4','4:4'])"
      ],
      "execution_count": 8,
      "outputs": [
        {
          "output_type": "execute_result",
          "data": {
            "text/plain": [
              "10"
            ]
          },
          "metadata": {
            "tags": []
          },
          "execution_count": 8
        }
      ]
    },
    {
      "cell_type": "code",
      "metadata": {
        "id": "aN3xKmG4Zr-S",
        "colab_type": "code",
        "colab": {
          "base_uri": "https://localhost:8080/",
          "height": 35
        },
        "outputId": "b4f5644b-dc08-4f00-9607-1ee483a96839"
      },
      "source": [
        "points(['0:1','0:2','0:3','0:4','1:2','1:3','1:4','2:3','2:4','3:4'])"
      ],
      "execution_count": 9,
      "outputs": [
        {
          "output_type": "execute_result",
          "data": {
            "text/plain": [
              "0"
            ]
          },
          "metadata": {
            "tags": []
          },
          "execution_count": 9
        }
      ]
    },
    {
      "cell_type": "code",
      "metadata": {
        "id": "XE4kNEkXZs0G",
        "colab_type": "code",
        "colab": {
          "base_uri": "https://localhost:8080/",
          "height": 35
        },
        "outputId": "2e8b5d7c-d9ea-49d8-ee7e-59ce0af199e8"
      },
      "source": [
        "points(['1:0','2:0','3:0','4:0','2:1','1:3','1:4','2:3','2:4','3:4'])"
      ],
      "execution_count": 10,
      "outputs": [
        {
          "output_type": "execute_result",
          "data": {
            "text/plain": [
              "15"
            ]
          },
          "metadata": {
            "tags": []
          },
          "execution_count": 10
        }
      ]
    },
    {
      "cell_type": "code",
      "metadata": {
        "id": "0cQ0p32_ZkZO",
        "colab_type": "code",
        "colab": {
          "base_uri": "https://localhost:8080/",
          "height": 35
        },
        "outputId": "871ae762-65f5-4e30-dbc5-a87d7d6e026d"
      },
      "source": [
        "points(['1:0','2:0','3:0','4:4','2:2','3:3','1:4','2:3','2:4','3:4'])"
      ],
      "execution_count": 11,
      "outputs": [
        {
          "output_type": "execute_result",
          "data": {
            "text/plain": [
              "12"
            ]
          },
          "metadata": {
            "tags": []
          },
          "execution_count": 11
        }
      ]
    },
    {
      "cell_type": "code",
      "metadata": {
        "id": "2qYlqo6uZ-01",
        "colab_type": "code",
        "colab": {}
      },
      "source": [
        "test = ['1:0','2:0','3:0','4:0','2:1','3:1','4:1','3:2','4:2','4:3']"
      ],
      "execution_count": 15,
      "outputs": []
    },
    {
      "cell_type": "code",
      "metadata": {
        "id": "_PKnc7DXaB9W",
        "colab_type": "code",
        "colab": {
          "base_uri": "https://localhost:8080/",
          "height": 195
        },
        "outputId": "d3d3aef6-22ae-4c55-b74f-cd9ea7cf18be"
      },
      "source": [
        "for i in test:\n",
        "  print(i[0]>i[2])"
      ],
      "execution_count": 13,
      "outputs": [
        {
          "output_type": "stream",
          "text": [
            "True\n",
            "True\n",
            "True\n",
            "True\n",
            "True\n",
            "True\n",
            "True\n",
            "True\n",
            "True\n",
            "True\n"
          ],
          "name": "stdout"
        }
      ]
    },
    {
      "cell_type": "code",
      "metadata": {
        "id": "2T-5G0PnaHrM",
        "colab_type": "code",
        "colab": {
          "base_uri": "https://localhost:8080/",
          "height": 35
        },
        "outputId": "16351c5e-94fa-4317-bb4c-b7477c832f26"
      },
      "source": [
        "test[0][0] > test[0][2]"
      ],
      "execution_count": null,
      "outputs": [
        {
          "output_type": "execute_result",
          "data": {
            "text/plain": [
              "True"
            ]
          },
          "metadata": {
            "tags": []
          },
          "execution_count": 14
        }
      ]
    },
    {
      "cell_type": "code",
      "metadata": {
        "id": "PUxIV7F8aVWN",
        "colab_type": "code",
        "colab": {}
      },
      "source": [
        ""
      ],
      "execution_count": null,
      "outputs": []
    }
  ]
}