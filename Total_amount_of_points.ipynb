{
  "nbformat": 4,
  "nbformat_minor": 0,
  "metadata": {
    "colab": {
      "name": "Total amount of points",
      "provenance": [],
      "authorship_tag": "ABX9TyNJs9SKxfnbjNFcAtsRGyGS",
      "include_colab_link": true
    },
    "kernelspec": {
      "name": "python3",
      "display_name": "Python 3"
    }
  },
  "cells": [
    {
      "cell_type": "markdown",
      "metadata": {
        "id": "view-in-github",
        "colab_type": "text"
      },
      "source": [
        "<a href=\"https://colab.research.google.com/github/gilbertduenas/codewars---Total-amount-of-points/blob/master/Total_amount_of_points.ipynb\" target=\"_parent\"><img src=\"https://colab.research.google.com/assets/colab-badge.svg\" alt=\"Open In Colab\"/></a>"
      ]
    },
    {
      "cell_type": "code",
      "metadata": {
        "id": "BBREc-dlZujt",
        "colab_type": "code",
        "colab": {}
      },
      "source": [
        "def points(games):\n",
        "  total = 0\n",
        "  for i in games:\n",
        "    if i[0] > i[2]:\n",
        "      total += 3\n",
        "    elif i[0] == i[2]:\n",
        "      total += 1\n",
        "\n",
        "  return total"
      ],
      "execution_count": 7,
      "outputs": []
    },
    {
      "cell_type": "markdown",
      "metadata": {
        "id": "655M5IaQa7Yz",
        "colab_type": "text"
      },
      "source": [
        "Scoring\n",
        "- if x>y - 3 points\n",
        "- if x<y - 0 point\n",
        "- if x=y - 1 point\n",
        "\n",
        "---"
      ]
    },
    {
      "cell_type": "code",
      "metadata": {
        "id": "AP0rG9YJZGnP",
        "colab_type": "code",
        "colab": {
          "base_uri": "https://localhost:8080/",
          "height": 35
        },
        "outputId": "fa3c451f-4fcf-4c4a-e12f-525c41c7bda0"
      },
      "source": [
        "points(['1:0','2:0','3:0','4:0','2:1','3:1','4:1','3:2','4:2','4:3'])"
      ],
      "execution_count": 8,
      "outputs": [
        {
          "output_type": "execute_result",
          "data": {
            "text/plain": [
              "30"
            ]
          },
          "metadata": {
            "tags": []
          },
          "execution_count": 8
        }
      ]
    },
    {
      "cell_type": "code",
      "metadata": {
        "id": "WkhVP77iZmPc",
        "colab_type": "code",
        "colab": {
          "base_uri": "https://localhost:8080/",
          "height": 35
        },
        "outputId": "e99ee554-18b3-4393-c32a-d06120f10744"
      },
      "source": [
        "points(['1:1','2:2','3:3','4:4','2:2','3:3','4:4','3:3','4:4','4:4'])"
      ],
      "execution_count": 9,
      "outputs": [
        {
          "output_type": "execute_result",
          "data": {
            "text/plain": [
              "10"
            ]
          },
          "metadata": {
            "tags": []
          },
          "execution_count": 9
        }
      ]
    },
    {
      "cell_type": "code",
      "metadata": {
        "id": "aN3xKmG4Zr-S",
        "colab_type": "code",
        "colab": {
          "base_uri": "https://localhost:8080/",
          "height": 35
        },
        "outputId": "e6590102-835e-4c93-970d-60dfeeb4bb48"
      },
      "source": [
        "points(['0:1','0:2','0:3','0:4','1:2','1:3','1:4','2:3','2:4','3:4'])"
      ],
      "execution_count": 10,
      "outputs": [
        {
          "output_type": "execute_result",
          "data": {
            "text/plain": [
              "0"
            ]
          },
          "metadata": {
            "tags": []
          },
          "execution_count": 10
        }
      ]
    },
    {
      "cell_type": "code",
      "metadata": {
        "id": "XE4kNEkXZs0G",
        "colab_type": "code",
        "colab": {
          "base_uri": "https://localhost:8080/",
          "height": 35
        },
        "outputId": "ebe17e3e-aaa5-4eff-ff7f-e395c84cc1e6"
      },
      "source": [
        "points(['1:0','2:0','3:0','4:0','2:1','1:3','1:4','2:3','2:4','3:4'])"
      ],
      "execution_count": 11,
      "outputs": [
        {
          "output_type": "execute_result",
          "data": {
            "text/plain": [
              "15"
            ]
          },
          "metadata": {
            "tags": []
          },
          "execution_count": 11
        }
      ]
    },
    {
      "cell_type": "code",
      "metadata": {
        "id": "0cQ0p32_ZkZO",
        "colab_type": "code",
        "colab": {
          "base_uri": "https://localhost:8080/",
          "height": 35
        },
        "outputId": "372bbed1-cc0b-45e4-f19f-caeb9f1c3172"
      },
      "source": [
        "points(['1:0','2:0','3:0','4:4','2:2','3:3','1:4','2:3','2:4','3:4'])"
      ],
      "execution_count": 12,
      "outputs": [
        {
          "output_type": "execute_result",
          "data": {
            "text/plain": [
              "12"
            ]
          },
          "metadata": {
            "tags": []
          },
          "execution_count": 12
        }
      ]
    },
    {
      "cell_type": "code",
      "metadata": {
        "id": "TgN0RDO5eDUs",
        "colab_type": "code",
        "colab": {}
      },
      "source": [
        ""
      ],
      "execution_count": null,
      "outputs": []
    }
  ]
}