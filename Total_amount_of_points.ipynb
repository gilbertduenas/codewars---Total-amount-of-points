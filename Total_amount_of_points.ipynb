{
  "nbformat": 4,
  "nbformat_minor": 0,
  "metadata": {
    "colab": {
      "name": "Total amount of points",
      "provenance": [],
      "authorship_tag": "ABX9TyNjwRL8sLwSdbJo0V8aQvMs",
      "include_colab_link": true
    },
    "kernelspec": {
      "name": "python3",
      "display_name": "Python 3"
    }
  },
  "cells": [
    {
      "cell_type": "markdown",
      "metadata": {
        "id": "view-in-github",
        "colab_type": "text"
      },
      "source": [
        "<a href=\"https://colab.research.google.com/github/gilbertduenas/codewars---Total-amount-of-points/blob/master/Total_amount_of_points.ipynb\" target=\"_parent\"><img src=\"https://colab.research.google.com/assets/colab-badge.svg\" alt=\"Open In Colab\"/></a>"
      ]
    },
    {
      "cell_type": "code",
      "metadata": {
        "id": "BBREc-dlZujt",
        "colab_type": "code",
        "colab": {}
      },
      "source": [
        "def points(games):\n",
        "  total = 0\n",
        "  for i in games:\n",
        "    if i[0] > i[2]:\n",
        "      total += 3\n",
        "    elif i[0] < i[2]:\n",
        "      total += 0\n",
        "    else:\n",
        "      total += 1\n",
        "\n",
        "  return total"
      ],
      "execution_count": 1,
      "outputs": []
    },
    {
      "cell_type": "markdown",
      "metadata": {
        "id": "655M5IaQa7Yz",
        "colab_type": "text"
      },
      "source": [
        "Scoring\n",
        "- if x>y - 3 points\n",
        "- if x<y - 0 point\n",
        "- if x=y - 1 point\n",
        "\n",
        "---"
      ]
    },
    {
      "cell_type": "code",
      "metadata": {
        "id": "AP0rG9YJZGnP",
        "colab_type": "code",
        "colab": {
          "base_uri": "https://localhost:8080/",
          "height": 35
        },
        "outputId": "70886d12-c93a-40ca-f6ec-fbca78ebb5de"
      },
      "source": [
        "points(['1:0','2:0','3:0','4:0','2:1','3:1','4:1','3:2','4:2','4:3'])"
      ],
      "execution_count": 2,
      "outputs": [
        {
          "output_type": "execute_result",
          "data": {
            "text/plain": [
              "30"
            ]
          },
          "metadata": {
            "tags": []
          },
          "execution_count": 2
        }
      ]
    },
    {
      "cell_type": "code",
      "metadata": {
        "id": "WkhVP77iZmPc",
        "colab_type": "code",
        "colab": {
          "base_uri": "https://localhost:8080/",
          "height": 35
        },
        "outputId": "11bcc8c7-4b1f-4046-9383-c8adb9951071"
      },
      "source": [
        "points(['1:1','2:2','3:3','4:4','2:2','3:3','4:4','3:3','4:4','4:4'])"
      ],
      "execution_count": 3,
      "outputs": [
        {
          "output_type": "execute_result",
          "data": {
            "text/plain": [
              "10"
            ]
          },
          "metadata": {
            "tags": []
          },
          "execution_count": 3
        }
      ]
    },
    {
      "cell_type": "code",
      "metadata": {
        "id": "aN3xKmG4Zr-S",
        "colab_type": "code",
        "colab": {
          "base_uri": "https://localhost:8080/",
          "height": 35
        },
        "outputId": "4a8c305b-e2db-489a-988f-669bcfe7338c"
      },
      "source": [
        "points(['0:1','0:2','0:3','0:4','1:2','1:3','1:4','2:3','2:4','3:4'])"
      ],
      "execution_count": 4,
      "outputs": [
        {
          "output_type": "execute_result",
          "data": {
            "text/plain": [
              "0"
            ]
          },
          "metadata": {
            "tags": []
          },
          "execution_count": 4
        }
      ]
    },
    {
      "cell_type": "code",
      "metadata": {
        "id": "XE4kNEkXZs0G",
        "colab_type": "code",
        "colab": {
          "base_uri": "https://localhost:8080/",
          "height": 35
        },
        "outputId": "7ded6786-2181-499f-c980-3cbeb75e6f1b"
      },
      "source": [
        "points(['1:0','2:0','3:0','4:0','2:1','1:3','1:4','2:3','2:4','3:4'])"
      ],
      "execution_count": 5,
      "outputs": [
        {
          "output_type": "execute_result",
          "data": {
            "text/plain": [
              "15"
            ]
          },
          "metadata": {
            "tags": []
          },
          "execution_count": 5
        }
      ]
    },
    {
      "cell_type": "code",
      "metadata": {
        "id": "0cQ0p32_ZkZO",
        "colab_type": "code",
        "colab": {
          "base_uri": "https://localhost:8080/",
          "height": 35
        },
        "outputId": "aeb2767b-7999-46b3-af26-dead6b2c0fb2"
      },
      "source": [
        "points(['1:0','2:0','3:0','4:4','2:2','3:3','1:4','2:3','2:4','3:4'])"
      ],
      "execution_count": 6,
      "outputs": [
        {
          "output_type": "execute_result",
          "data": {
            "text/plain": [
              "12"
            ]
          },
          "metadata": {
            "tags": []
          },
          "execution_count": 6
        }
      ]
    }
  ]
}